{
 "cells": [
  {
   "cell_type": "markdown",
   "id": "6698bc2f",
   "metadata": {},
   "source": [
    "Lab 2: Web scraping Falcon 9 and Falcon Heavy Launches Records from Wikipedia\n",
    "In this lab, we will be performing web scraping to collect Falcon 9 historical launch records from a Wikipedia page titled List of Falcon 9 and Falcon Heavy launches\n",
    "\n",
    "https://en.wikipedia.org/wiki/List_of_Falcon\\_9\\_and_Falcon_Heavy_launches\n",
    "\n",
    "Objectives\n",
    "Web scrap Falcon 9 launch records with BeautifulSoup:\n",
    "\n",
    "Extract a Falcon 9 launch records HTML table from Wikipedia Parse the table and convert it into a Pandas data frame First let's import required packages for this lab"
   ]
  },
  {
   "cell_type": "code",
   "execution_count": 1,
   "id": "26bd228a",
   "metadata": {},
   "outputs": [],
   "source": [
    "import sys\n",
    "import requests\n",
    "from bs4 import BeautifulSoup\n",
    "import re\n",
    "import unicodedata\n",
    "import pandas as pd"
   ]
  },
  {
   "cell_type": "code",
   "execution_count": 2,
   "id": "4bfbec11",
   "metadata": {},
   "outputs": [],
   "source": [
    "#and we will provide some helper functions for you to process web scraped HTML table\n",
    "\n",
    "def date_time(table_cells):  # returns data and time from the HTML table cell\n",
    "    return [data_time.strip() for data_time in list(table_cells.strings)][0:2]\n",
    "\n",
    "def booster_version(table_cells):  # returns the booster version from the HTML table cell\n",
    "    return ''.join([booster_version for i,booster_version in enumerate( table_cells.strings) if i%2==0][0:-1])\n",
    "\n",
    "def landing_status(table_cells):  # returns the landing status from the HTML table cell\n",
    "    return [i for i in table_cells.strings][0]\n",
    "\n",
    "def get_mass(table_cells):\n",
    "    mass=unicodedata.normalize(\"NFKD\", table_cells.text).strip()\n",
    "    if mass:\n",
    "        mass.find(\"kg\")\n",
    "        new_mass=mass[0:mass.find(\"kg\")+2]\n",
    "    else:\n",
    "        new_mass=0\n",
    "    return new_mass\n",
    "\n",
    "\n",
    "def extract_column_from_header(row):  # returns the landing status from the HTML table cell\n",
    "    if (row.br):\n",
    "        row.br.extract()\n",
    "    if row.a:\n",
    "        row.a.extract()\n",
    "    if row.sup:\n",
    "        row.sup.extract()\n",
    "        \n",
    "    colunm_name = ' '.join(row.contents)\n",
    "    \n",
    "    # Filter the digit and empty names\n",
    "    if not(colunm_name.strip().isdigit()):\n",
    "        colunm_name = colunm_name.strip()\n",
    "        return colunm_name    "
   ]
  },
  {
   "cell_type": "code",
   "execution_count": 3,
   "id": "b6f19ae8",
   "metadata": {},
   "outputs": [],
   "source": [
    "#To keep the lab tasks consistent, you will be asked to scrape the data from a snapshot of the List of Falcon 9 and Falcon Heavy launches Wikipage updated on 9th June 2021\n",
    "\n",
    "static_url = \"https://en.wikipedia.org/w/index.php?title=List_of_Falcon_9_and_Falcon_Heavy_launches&oldid=1027686922\""
   ]
  },
  {
   "cell_type": "markdown",
   "id": "7faf2998",
   "metadata": {},
   "source": [
    "TASK 1: Request the Falcon9 Launch Wiki page from its URL\n",
    "First, let's perform an HTTP GET method to request the Falcon9 Launch HTML page, as an HTTP response."
   ]
  },
  {
   "cell_type": "code",
   "execution_count": 4,
   "id": "1e33fc43",
   "metadata": {},
   "outputs": [],
   "source": [
    "# use requests.get() method with the provided static_url\n",
    "# assign the response to a object\n",
    "r = requests.get(static_url)\n",
    "data = r.text"
   ]
  },
  {
   "cell_type": "markdown",
   "id": "0f5e2283",
   "metadata": {},
   "source": [
    "Create a BeautifulSoup object from the HTML response"
   ]
  },
  {
   "cell_type": "code",
   "execution_count": 5,
   "id": "c9a1ab27",
   "metadata": {},
   "outputs": [
    {
     "name": "stdout",
     "output_type": "stream",
     "text": [
      "<title>List of Falcon 9 and Falcon Heavy launches - Wikipedia</title>\n"
     ]
    }
   ],
   "source": [
    "# Use BeautifulSoup() to create a BeautifulSoup object from a response text content\n",
    "soup = BeautifulSoup(data,\"html.parser\")\n",
    "\n",
    "#Print the page title to verify if the BeautifulSoup object was created properly\n",
    "print(soup.title)"
   ]
  },
  {
   "cell_type": "markdown",
   "id": "56080322",
   "metadata": {},
   "source": [
    "TASK 2: Extract all column/variable names from the HTML table header\n",
    "Next, we want to collect all relevant column names from the HTML table header\n",
    "\n",
    "Let's try to find all tables on the wiki page first."
   ]
  },
  {
   "cell_type": "code",
   "execution_count": 6,
   "id": "90234811",
   "metadata": {},
   "outputs": [],
   "source": [
    "# Use the find_all function in the BeautifulSoup object, with element type `table`\n",
    "# Assign the result to a list called `html_tables`\n",
    "html_tables = soup.find_all('table')"
   ]
  },
  {
   "cell_type": "markdown",
   "id": "9148f1ea",
   "metadata": {},
   "source": [
    "Starting from the third table is our target table contains the actual launch records"
   ]
  },
  {
   "cell_type": "code",
   "execution_count": 7,
   "id": "0735c251",
   "metadata": {},
   "outputs": [],
   "source": [
    "# Let's print the third table and check its content\n",
    "first_launch_table = html_tables[2]\n",
    "# print(first_launch_table)"
   ]
  },
  {
   "cell_type": "markdown",
   "id": "7f93d4dc",
   "metadata": {},
   "source": [
    "Next, we just need to iterate through the <th> elements and apply the provided extract_column_from_header() to extract column name one by one"
   ]
  },
  {
   "cell_type": "code",
   "execution_count": 8,
   "id": "f8a00b15",
   "metadata": {},
   "outputs": [
    {
     "name": "stdout",
     "output_type": "stream",
     "text": [
      "['Flight No.', 'Date and time ( )', 'Launch site', 'Payload', 'Payload mass', 'Orbit', 'Customer', 'Launch outcome']\n"
     ]
    },
    {
     "data": {
      "text/plain": [
       "['Flight No.',\n",
       " 'Date and time ( )',\n",
       " 'Launch site',\n",
       " 'Payload',\n",
       " 'Payload mass',\n",
       " 'Orbit',\n",
       " 'Customer',\n",
       " 'Launch outcome']"
      ]
     },
     "execution_count": 8,
     "metadata": {},
     "output_type": "execute_result"
    }
   ],
   "source": [
    "column_names = []\n",
    "\n",
    "# Apply find_all() function with `th` element on first_launch_table\n",
    "# Iterate each th element and apply the provided extract_column_from_header() to get a column name\n",
    "# Append the Non-empty column name (`if name is not None and len(name) > 0`) into a list called column_names\n",
    "table_headers = first_launch_table.find_all('th')\n",
    "# print(table_headers)\n",
    "for j, table_header in enumerate(table_headers):\n",
    "    name = extract_column_from_header(table_header)\n",
    "    if name is not None and len(name) > 0:\n",
    "        column_names.append(name)\n",
    "    \n",
    "print(column_names)\n",
    "['Flight No.', 'Date and time ( )', 'Launch site', 'Payload', 'Payload mass', 'Orbit', 'Customer', 'Launch outcome']"
   ]
  },
  {
   "cell_type": "markdown",
   "id": "8709b921",
   "metadata": {},
   "source": [
    "TASK 3: Create a data frame by parsing the launch HTML tables\n",
    "We will create an empty dictionary with keys from the extracted column names in the previous task. Later, this dictionary will be converted into a Pandas dataframe"
   ]
  },
  {
   "cell_type": "code",
   "execution_count": 9,
   "id": "f7cdb32e",
   "metadata": {},
   "outputs": [],
   "source": [
    "launch_dict= dict.fromkeys(column_names)\n",
    "\n",
    "# Remove an irrelvant column\n",
    "del launch_dict['Date and time ( )']"
   ]
  },
  {
   "cell_type": "code",
   "execution_count": 10,
   "id": "03bdd0c0",
   "metadata": {},
   "outputs": [],
   "source": [
    "# Let's initial the launch_dict with each value to be an empty list\n",
    "launch_dict['Flight No.'] = []\n",
    "launch_dict['Launch site'] = []\n",
    "launch_dict['Payload'] = []\n",
    "launch_dict['Payload mass'] = []\n",
    "launch_dict['Orbit'] = []\n",
    "launch_dict['Customer'] = []\n",
    "launch_dict['Launch outcome'] = []\n",
    "# Added some new columns\n",
    "launch_dict['Version Booster']=[]\n",
    "launch_dict['Booster landing']=[]\n",
    "launch_dict['Date']=[]\n",
    "launch_dict['Time']=[]"
   ]
  },
  {
   "cell_type": "markdown",
   "id": "f8302f44",
   "metadata": {},
   "source": [
    "Next, we just need to fill up the launch_dict with launch records extracted from table rows.\n",
    "\n",
    "Usually, HTML tables in Wiki pages are likely to contain unexpected annotations and other types of noises, such as reference links B0004.1[8], missing values N/A [e], inconsistent formatting, etc.\n",
    "\n",
    "To simplify the parsing process, we have provided an incomplete code snippet below to help you to fill up the launch_dict. Please complete the following code snippet with TODOs or you can choose to write your own logic to parse all launch tables:"
   ]
  },
  {
   "cell_type": "code",
   "execution_count": 11,
   "id": "1b0f0e91",
   "metadata": {},
   "outputs": [
    {
     "name": "stdout",
     "output_type": "stream",
     "text": [
      "number of extracted rows:  121\n"
     ]
    }
   ],
   "source": [
    "extracted_row = 0\n",
    "for table_number,table in enumerate(soup.find_all('table',\"wikitable plainrowheaders collapsible\")):\n",
    "    for rows in table.find_all(\"tr\"):  # get table row \n",
    "        if rows.th:  #check to see if first table heading is a number corresponding to launch a number\n",
    "            if rows.th.string:\n",
    "                flight_number=rows.th.string.strip()\n",
    "                flag=flight_number.isdigit()\n",
    "        else:\n",
    "            flag=False\n",
    "        row=rows.find_all('td')  # #get table element\n",
    "        if flag:  #if it is number save cells in a dictonary \n",
    "            extracted_row += 1\n",
    "            # Flight Number value\n",
    "            # TODO: Append the flight_number into launch_dict with key `Flight No.`\n",
    "            launch_dict['Flight No.'].append(flight_number)\n",
    "            # print(flight_number)\n",
    "            datatimelist=date_time(row[0])\n",
    "            \n",
    "            # Date value\n",
    "            # TODO: Append the date into launch_dict with key `Date`\n",
    "            date = datatimelist[0].strip(',')\n",
    "            launch_dict['Date'].append(date)\n",
    "            # print(date)\n",
    "            \n",
    "            # Time value\n",
    "            # TODO: Append the time into launch_dict with key `Time`\n",
    "            time = datatimelist[1]\n",
    "            launch_dict['Time'].append(time)\n",
    "            # print(time)\n",
    "              \n",
    "            # Booster version\n",
    "            # TODO: Append the bv into launch_dict with key `Version Booster`\n",
    "            bv=booster_version(row[1])\n",
    "            if not(bv):\n",
    "                bv=row[1].a.string\n",
    "            launch_dict['Version Booster'].append(bv)\n",
    "            # print(bv)\n",
    "            \n",
    "            # Launch Site\n",
    "            # TODO: Append the bv into launch_dict with key `Launch Site`\n",
    "            launch_site = row[2].a.string\n",
    "            launch_dict['Launch site'].append(launch_site)\n",
    "            # print(launch_site)\n",
    "            \n",
    "            # Payload\n",
    "            # TODO: Append the payload into launch_dict with key `Payload`\n",
    "            payload = row[3].a.string\n",
    "            launch_dict['Payload'].append(payload)\n",
    "            # print(payload)\n",
    "            \n",
    "            # Payload Mass\n",
    "            # TODO: Append the payload_mass into launch_dict with key `Payload mass`\n",
    "            payload_mass = get_mass(row[4])\n",
    "            launch_dict['Payload mass'].append(payload_mass)\n",
    "            # print(payload)\n",
    "            \n",
    "            # Orbit\n",
    "            # TODO: Append the orbit into launch_dict with key `Orbit`\n",
    "            orbit = row[5].a.string\n",
    "            launch_dict['Orbit'].append(orbit)\n",
    "            # print(orbit)\n",
    "            \n",
    "            # Customer\n",
    "            # TODO: Append the customer into launch_dict with key `Customer`\n",
    "            try:\n",
    "                customer = row[6].a.string\n",
    "            except:\n",
    "                customer = \"None\"\n",
    "\n",
    "            launch_dict['Customer'].append(customer)\n",
    "            # print(customer)\n",
    "            \n",
    "            # Launch outcome\n",
    "            # TODO: Append the launch_outcome into launch_dict with key `Launch outcome`\n",
    "            launch_outcome = list(row[7].strings)[0]\n",
    "            launch_dict['Launch outcome'].append(launch_outcome)\n",
    "            # print(launch_outcome)\n",
    "            \n",
    "            # Booster landing\n",
    "            # TODO: Append the launch_outcome into launch_dict with key `Booster landing`\n",
    "            booster_landing = landing_status(row[8])\n",
    "            launch_dict['Booster landing'].append(booster_landing)\n",
    "            # print(booster_landing)\n",
    "            \n",
    "            # debugging: find length differences\n",
    "            # print(\"---------------------------\")\n",
    "            # curr_len = [len(val) for key, val in launch_dict.items()]\n",
    "            # print(curr_len)\n",
    "            # print(\"---------------------------\")\n",
    "print(\"number of extracted rows: \", extracted_row)"
   ]
  },
  {
   "cell_type": "code",
   "execution_count": 12,
   "id": "7742982f",
   "metadata": {},
   "outputs": [],
   "source": [
    "#After we have filled in the parsed launch record values into launch_dict, we can create a dataframe from it.\n",
    "\n",
    "df=pd.DataFrame(launch_dict)"
   ]
  },
  {
   "cell_type": "code",
   "execution_count": 13,
   "id": "ed4d055d",
   "metadata": {},
   "outputs": [],
   "source": [
    "df.to_csv(\"webscrapping_applied.csv\")"
   ]
  },
  {
   "cell_type": "code",
   "execution_count": 14,
   "id": "3cc73150",
   "metadata": {},
   "outputs": [
    {
     "name": "stdout",
     "output_type": "stream",
     "text": [
      "Flight No.: #: 121\n",
      "Launch site: #: 121\n",
      "Payload: #: 121\n",
      "Payload mass: #: 121\n",
      "Orbit: #: 121\n",
      "Customer: #: 121\n",
      "Launch outcome: #: 121\n",
      "Version Booster: #: 121\n",
      "Booster landing: #: 121\n",
      "Date: #: 121\n",
      "Time: #: 121\n"
     ]
    }
   ],
   "source": [
    "# debugging: checking length of lists in dictionary \n",
    "for key, val in launch_dict.items():\n",
    "    print(f\"{key}: #: {len(val)}\")"
   ]
  },
  {
   "cell_type": "code",
   "execution_count": null,
   "id": "741468ac",
   "metadata": {},
   "outputs": [],
   "source": []
  }
 ],
 "metadata": {
  "kernelspec": {
   "display_name": "Python 3 (ipykernel)",
   "language": "python",
   "name": "python3"
  },
  "language_info": {
   "codemirror_mode": {
    "name": "ipython",
    "version": 3
   },
   "file_extension": ".py",
   "mimetype": "text/x-python",
   "name": "python",
   "nbconvert_exporter": "python",
   "pygments_lexer": "ipython3",
   "version": "3.9.13"
  }
 },
 "nbformat": 4,
 "nbformat_minor": 5
}
